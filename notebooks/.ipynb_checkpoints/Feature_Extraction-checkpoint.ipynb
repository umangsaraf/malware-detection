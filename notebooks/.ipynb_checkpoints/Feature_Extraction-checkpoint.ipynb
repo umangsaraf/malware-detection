{
 "cells": [
  {
   "cell_type": "code",
   "execution_count": 2,
   "metadata": {},
   "outputs": [
    {
     "name": "stderr",
     "output_type": "stream",
     "text": [
      "/home/usaraf/.local/lib/python3.7/site-packages/mklaren/projection/csi.py:23: UserWarning: Set OCTAVE_EXECUTABLE to use the CSI method.\n",
      "  warnings.warn(\"Set OCTAVE_EXECUTABLE to use the CSI method.\")\n"
     ]
    }
   ],
   "source": [
    "import regex as re\n",
    "from collections import defaultdict\n",
    "import time\n",
    "from scipy.sparse import *\n",
    "\n",
    "import numpy as np\n",
    "from sklearn.svm import SVC\n",
    "from tqdm import tqdm\n",
    "import os \n",
    "import glob\n",
    "from pathlib import Path\n",
    "\n",
    "import pandas as pd\n",
    "from sklearn.model_selection import train_test_split\n",
    "from sklearn.svm import LinearSVC\n",
    "from sklearn.metrics import *\n",
    "import json\n",
    "import matplotlib.pyplot as plt\n",
    "import pickle\n",
    "%matplotlib inline\n",
    "\n",
    "\n",
    "\n",
    "import sys\n",
    "sys.path.insert(1, '../src')\n",
    "import make_dataset\n",
    "import model \n",
    "import build_features\n",
    "import multi_kernel\n",
    "\n",
    "\n",
    "\n",
    "\n",
    "plt.style.use('seaborn-whitegrid')"
   ]
  },
  {
   "cell_type": "code",
   "execution_count": 3,
   "metadata": {},
   "outputs": [
    {
     "data": {
      "text/plain": [
       "<module 'model' from '../src/model.py'>"
      ]
     },
     "execution_count": 3,
     "metadata": {},
     "output_type": "execute_result"
    }
   ],
   "source": [
    "import importlib\n",
    "importlib.reload(make_dataset)\n",
    "importlib.reload(build_features)\n",
    "importlib.reload(model)"
   ]
  },
  {
   "cell_type": "markdown",
   "metadata": {},
   "source": [
    "## Feature Extraction"
   ]
  },
  {
   "cell_type": "code",
   "execution_count": 4,
   "metadata": {},
   "outputs": [
    {
     "name": "stdout",
     "output_type": "stream",
     "text": [
      "1 done\n",
      "2 done\n",
      "3 done\n"
     ]
    }
   ],
   "source": [
    "train_created = True\n",
    "\n",
    "dir_list = '../test-data'\n",
    "benign_paths = make_dataset.benign_app_paths_test(dir_list)\n",
    "\n",
    "if train_created == False:\n",
    "\n",
    "    malware_path, type_of_malware  =make_dataset.malware_app_paths()\n",
    "\n",
    "    \n",
    "\n",
    "    path = benign_paths[:2] + malware_path[:3]  \n",
    "\n",
    "    ## Creates 3 diffrent structures that will be used to create the matrices\n",
    "    apps_dic, code_block_dic, package_dic = make_dataset.clean_data(path)\n",
    "\n",
    "    ## Gets all the unique API's in the data structure\n",
    "    api_list_inter, app_list = make_dataset.unique_api_apps(apps_dic)\n",
    "\n",
    "    ## Creates an intermediate A structure to find the count of each API\n",
    "    a_matrix_inter = build_features.create_a_matrix\\\n",
    "    (app_list,api_list_inter, apps_dic)\n",
    "\n",
    "    ## Gets the index of all API's that occur less in less then n apps\n",
    "    extra_api_list = make_dataset.get_index_of_api\\\n",
    "    (a_matrix_inter,api_list_inter,2)\n",
    "\n",
    "    ## removes all the API's from the 3 data structures\n",
    "    apps_dic,code_block_dic,package_dic = make_dataset.remove_apis\\\n",
    "    (extra_api_list,apps_dic,code_block_dic,package_dic)\n",
    "\n",
    "    ## Gets the new list of unique API's\n",
    "    api_list, app_list = make_dataset.unique_api_apps(apps_dic)\n",
    "\n",
    "\n",
    "    ## Saves these datastructures again \n",
    "    name_list = ['data', 'app_api.json', 'code_block.json','lib.json' ]\n",
    "    make_dataset.save_structures(apps_dic, code_block_dic, package_dic,name_list )\n",
    "\n",
    "    ## Saves unique api_list\n",
    "    api_path = 'data/processed/unique_api.text'\n",
    "    with open(\"api_path\", \"wb\") as fp: \n",
    "        pickle.dump(api_list, fp)\n",
    "\n",
    "else:\n",
    "    with open('../test-data/processed/app_to_api.json') as f:\n",
    "        apps_dic = json.loads(f.read())\n",
    "        f.close()\n",
    "    \n",
    "    with open('../test-data/processed/code_block.json') as f:\n",
    "        code_block_dic = json.loads(f.read())\n",
    "        f.close()\n",
    "    \n",
    "    with open('../test-data/processed/library_dic.json') as f:\n",
    "        package_dic = json.loads(f.read())\n",
    "        f.close()\n",
    "\n",
    "    api_path = '../test-data/processed/unique_api.text'\n",
    "    with open(api_path, \"rb\") as fp: \n",
    "        api_list = pickle.load(fp)\n",
    "    \n",
    "    app_list = list(apps_dic.keys())"
   ]
  },
  {
   "cell_type": "markdown",
   "metadata": {},
   "source": [
    "## Bulding Features "
   ]
  },
  {
   "cell_type": "code",
   "execution_count": 19,
   "metadata": {},
   "outputs": [],
   "source": [
    "matrix_created = True\n",
    "\n",
    "if matrix_created == False:\n",
    "    ## Creates A matrix\n",
    "    a_matrix = build_features.create_a_matrix(app_list,api_list,apps_dic)\n",
    "\n",
    "    ## Creatres B matrix\n",
    "    b_matrix = build_features.create_b_matrix(code_block_dic,api_list,)\n",
    "\n",
    "    ## Creates P matrix \n",
    "    p_matrix = build_features.create_p_matrix(package_dic,api_list)\n",
    "\n",
    "    ## Saves all the 3 matrices \n",
    "    name_list = ['data', 'a_matrix','b_matrix','p_matrix']\n",
    "    build_features.save_features(a_matrix,b_matrix,p_matrix, name_list)\n",
    "\n",
    "\n",
    "else:\n",
    "    ## Loads A matrix \n",
    "    a_matrix = load_npz(\"../test-data/matrix/a_matrix.npz\")\n",
    "    \n",
    "    ## Loads B matrix \n",
    "    b_matrix = load_npz(\"../test-data/matrix/b_matrix.npz\")\n",
    "    \n",
    "    ## Loads P matrix \n",
    "    p_matrix = load_npz(\"../test-data/matrix/p_matrix.npz\")"
   ]
  },
  {
   "cell_type": "markdown",
   "metadata": {},
   "source": [
    "### Test data "
   ]
  },
  {
   "cell_type": "code",
   "execution_count": 21,
   "metadata": {},
   "outputs": [],
   "source": [
    "test_structure_created = True\n",
    "\n",
    "test_benign_paths = benign_paths[2:]\n",
    "\n",
    "if test_structure_created == False:\n",
    "    \n",
    "    ## Gets path to all benign apps\n",
    "    \n",
    "\n",
    "    ## Gets path to all malware apps\n",
    "    malware_apps = []\n",
    "    for i in malware_path:\n",
    "        if i.split('/')[-1] not in app_list:\n",
    "            malware_apps.append(i)\n",
    "\n",
    "    malware_test_paths = malware_apps[:2]\n",
    "\n",
    "    ## Gets all the paths \n",
    "    test_paths = test_benign_paths[:2] + malware_test_paths\n",
    "\n",
    "    ## Creates structure for the test set \n",
    "    test_apps_dic = make_dataset.get_data_test(test_paths)\n",
    "\n",
    "\n",
    "    ## saves the new test structure created \n",
    "    test_name_list = ['data', 'test_app_api.json']\n",
    "    make_dataset.test_save_structures(test_apps_dic, test_name_list)\n",
    "    app_list_test = list(test_apps_dic.keys())\n",
    "\n",
    "    \n",
    "else:\n",
    "    with open('../test-data/processed/test_app_api.json') as f:\n",
    "        test_apps_dic = json.loads(f.read())\n",
    "        f.close()\n",
    "    app_list_test = list(test_apps_dic.keys())\n",
    "    "
   ]
  },
  {
   "cell_type": "code",
   "execution_count": 22,
   "metadata": {},
   "outputs": [],
   "source": [
    "a_test_created = False\n",
    "\n",
    "if a_test_created:\n",
    "    \n",
    "    ##Loads in the a matrix for the test set \n",
    "    a_test_matrix = load_npz(\"../../a_test_matrix.npz\")\n",
    "else:\n",
    "    ## Creates the A matrix for the test set \n",
    "    a_test_matrix = build_features.create_a_matrix_test(app_list_test,api_list,test_apps_dic)"
   ]
  }
 ],
 "metadata": {
  "kernelspec": {
   "display_name": "Python 3",
   "language": "python",
   "name": "python3"
  },
  "language_info": {
   "codemirror_mode": {
    "name": "ipython",
    "version": 3
   },
   "file_extension": ".py",
   "mimetype": "text/x-python",
   "name": "python",
   "nbconvert_exporter": "python",
   "pygments_lexer": "ipython3",
   "version": "3.7.3"
  }
 },
 "nbformat": 4,
 "nbformat_minor": 2
}
