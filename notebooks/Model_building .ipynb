{
 "cells": [
  {
   "cell_type": "code",
   "execution_count": 4,
   "metadata": {},
   "outputs": [],
   "source": [
    "import regex as re\n",
    "from collections import defaultdict\n",
    "import time\n",
    "from scipy.sparse import *\n",
    "\n",
    "import numpy as np\n",
    "from sklearn.svm import SVC\n",
    "from tqdm import tqdm\n",
    "import os \n",
    "import glob\n",
    "from pathlib import Path\n",
    "\n",
    "import pandas as pd\n",
    "from sklearn.model_selection import train_test_split\n",
    "from sklearn.svm import LinearSVC\n",
    "from sklearn.metrics import *\n",
    "import json\n",
    "import matplotlib.pyplot as plt\n",
    "import pickle\n",
    "%matplotlib inline\n",
    "\n",
    "\n",
    "\n",
    "import sys\n",
    "sys.path.insert(1, '../src')\n",
    "import make_dataset\n",
    "import model \n",
    "import build_features\n",
    "import multi_kernel\n",
    "\n",
    "from mklaren.kernel.kernel import linear_kernel\n",
    "try:\n",
    "    from mklaren.mkl.alignf import Alignf\n",
    "except:\n",
    "    from mklaren.mkl.alignf import Alignf\n",
    "from mklaren.kernel.kernel import linear_kernel, poly_kernel\n",
    "\n",
    "\n",
    "\n",
    "\n",
    "plt.style.use('seaborn-whitegrid')"
   ]
  },
  {
   "cell_type": "code",
   "execution_count": 5,
   "metadata": {},
   "outputs": [],
   "source": [
    "dir_list = '../test-data'\n",
    "\n",
    "benign_path = make_dataset.benign_app_paths_test(dir_list)[:2]\n",
    "\n",
    "test_benign_paths = benign_path[2:]\n",
    "benign_paths = benign_path[:2]\n",
    "\n",
    "with open('../test-data/processed/app_to_api.json') as f:\n",
    "    apps_dic = json.loads(f.read())\n",
    "    f.close()\n",
    "    \n",
    "api_path = '../test-data/processed/unique_api.text'\n",
    "with open(api_path, \"rb\") as fp: \n",
    "    api_list = pickle.load(fp)\n",
    "app_list = list(apps_dic.keys())\n",
    "\n",
    "with open('../test-data/processed/test_app_api.json') as f:\n",
    "    test_apps_dic = json.loads(f.read())\n",
    "    f.close()\n",
    "app_list_test = list(test_apps_dic.keys())"
   ]
  },
  {
   "cell_type": "markdown",
   "metadata": {},
   "source": [
    "## Loading matrix"
   ]
  },
  {
   "cell_type": "code",
   "execution_count": 6,
   "metadata": {},
   "outputs": [],
   "source": [
    "## Loads A matrix \n",
    "a_matrix = load_npz(\"../test-data/matrix/a_matrix.npz\")\n",
    "\n",
    "## Loads B matrix \n",
    "b_matrix = load_npz(\"../test-data/matrix/b_matrix.npz\")\n",
    "\n",
    "## Loads P matrix \n",
    "p_matrix = load_npz(\"../test-data/matrix/p_matrix.npz\")\n",
    "\n",
    "\n",
    "a_test_matrix = load_npz(\"../test-data/matrix/a_test_matrix.npz\")"
   ]
  },
  {
   "cell_type": "markdown",
   "metadata": {},
   "source": [
    "## Creating Kernels "
   ]
  },
  {
   "cell_type": "markdown",
   "metadata": {},
   "source": [
    "### AA^T"
   ]
  },
  {
   "cell_type": "code",
   "execution_count": 7,
   "metadata": {},
   "outputs": [],
   "source": [
    "train_kernel_aa  = model.aa_kernel(a_matrix,a_matrix)\n",
    "df_train_aa  = model.create_df(train_kernel_aa,benign_paths,app_list )\n",
    "\n",
    "test_kernel_aa =  model.aa_kernel(a_test_matrix,a_matrix)\n",
    "df_test_aa  = model.create_df(test_kernel_aa,test_benign_paths,app_list_test )\n",
    "\n",
    "\n"
   ]
  },
  {
   "cell_type": "code",
   "execution_count": 8,
   "metadata": {},
   "outputs": [],
   "source": [
    "#model.kernel_viz_func(df_train_aa, 'aa')"
   ]
  },
  {
   "cell_type": "code",
   "execution_count": 9,
   "metadata": {},
   "outputs": [
    {
     "name": "stderr",
     "output_type": "stream",
     "text": [
      "/opt/conda/lib/python3.7/site-packages/sklearn/metrics/classification.py:1439: UndefinedMetricWarning: F-score is ill-defined and being set to 0.0 due to no true samples.\n",
      "  'recall', 'true', average, warn_for)\n"
     ]
    },
    {
     "data": {
      "text/plain": [
       "{'accuracy': 0.3333333333333333,\n",
       " 'f1_score': 0.0,\n",
       " 'tn': 1,\n",
       " 'fp': 2,\n",
       " 'fn': 0,\n",
       " 'tp': 0}"
      ]
     },
     "execution_count": 9,
     "metadata": {},
     "output_type": "execute_result"
    }
   ],
   "source": [
    "clf = LinearSVC(max_iter = 10000)\n",
    "dic_scores,test_df = model.run_model(df_train_aa,df_test_aa, clf)\n",
    "dic_scores\n",
    "\n"
   ]
  },
  {
   "cell_type": "markdown",
   "metadata": {},
   "source": [
    "### ABA^T"
   ]
  },
  {
   "cell_type": "code",
   "execution_count": 10,
   "metadata": {},
   "outputs": [
    {
     "name": "stdout",
     "output_type": "stream",
     "text": [
      "PCA Plot:\n"
     ]
    },
    {
     "data": {
      "image/png": "[encoded data removed]",
      "text/plain": [
       "<Figure size 432x288 with 1 Axes>"
      ]
     },
     "metadata": {},
     "output_type": "display_data"
    },
    {
     "name": "stdout",
     "output_type": "stream",
     "text": [
      "T-SNE Plot:\n"
     ]
    },
    {
     "data": {
      "image/png": "[encoded data removed]",
      "text/plain": [
       "<Figure size 432x288 with 1 Axes>"
      ]
     },
     "metadata": {},
     "output_type": "display_data"
    },
    {
     "name": "stdout",
     "output_type": "stream",
     "text": [
      "Both Plot:\n"
     ]
    },
    {
     "data": {
      "image/png": "[encoded data removed]",
      "text/plain": [
       "<Figure size 432x288 with 1 Axes>"
      ]
     },
     "metadata": {},
     "output_type": "display_data"
    }
   ],
   "source": [
    "train_kernel_ab  = model.ab_or_p_kernel(a_matrix,a_matrix,b_matrix)\n",
    "df_train_ab  = model.create_df(train_kernel_ab,benign_paths,app_list )\n",
    "\n",
    "test_kernel_ab =  model.ab_or_p_kernel(a_test_matrix,a_matrix,b_matrix)\n",
    "df_test_ab  = model.create_df(test_kernel_ab,test_benign_paths,app_list_test )\n",
    "\n",
    "\n",
    "model.kernel_viz_func(df_train_ab, 'ab')"
   ]
  },
  {
   "cell_type": "code",
   "execution_count": 11,
   "metadata": {},
   "outputs": [
    {
     "name": "stderr",
     "output_type": "stream",
     "text": [
      "/opt/conda/lib/python3.7/site-packages/sklearn/metrics/classification.py:1439: UndefinedMetricWarning: F-score is ill-defined and being set to 0.0 due to no true samples.\n",
      "  'recall', 'true', average, warn_for)\n"
     ]
    },
    {
     "data": {
      "text/plain": [
       "{'accuracy': 0.6666666666666666,\n",
       " 'f1_score': 0.0,\n",
       " 'tn': 2,\n",
       " 'fp': 1,\n",
       " 'fn': 0,\n",
       " 'tp': 0}"
      ]
     },
     "execution_count": 11,
     "metadata": {},
     "output_type": "execute_result"
    }
   ],
   "source": [
    "clf = LinearSVC(max_iter = 10000)\n",
    "dic_scores,test_df = model.run_model(df_train_ab,df_test_ab, clf)\n",
    "dic_scores"
   ]
  },
  {
   "cell_type": "markdown",
   "metadata": {},
   "source": [
    "### APA^T"
   ]
  },
  {
   "cell_type": "code",
   "execution_count": 12,
   "metadata": {},
   "outputs": [
    {
     "name": "stdout",
     "output_type": "stream",
     "text": [
      "PCA Plot:\n"
     ]
    },
    {
     "data": {
      "image/png": "[encoded data removed]",
      "text/plain": [
       "<Figure size 432x288 with 1 Axes>"
      ]
     },
     "metadata": {},
     "output_type": "display_data"
    },
    {
     "name": "stdout",
     "output_type": "stream",
     "text": [
      "T-SNE Plot:\n"
     ]
    },
    {
     "data": {
      "image/png": "[encoded data removed]",
      "text/plain": [
       "<Figure size 432x288 with 1 Axes>"
      ]
     },
     "metadata": {},
     "output_type": "display_data"
    },
    {
     "name": "stdout",
     "output_type": "stream",
     "text": [
      "Both Plot:\n"
     ]
    },
    {
     "data": {
      "image/png": "[encoded data removed]",
      "text/plain": [
       "<Figure size 432x288 with 1 Axes>"
      ]
     },
     "metadata": {},
     "output_type": "display_data"
    }
   ],
   "source": [
    "train_kernel_ap  = model.ab_or_p_kernel(a_matrix,a_matrix,p_matrix)\n",
    "df_train_ap  = model.create_df(train_kernel_ap,benign_paths,app_list )\n",
    "\n",
    "test_kernel_ap =  model.ab_or_p_kernel(a_test_matrix,a_matrix,p_matrix)\n",
    "df_test_ap  = model.create_df(test_kernel_ap,test_benign_paths,app_list_test )\n",
    "\n",
    "\n",
    "model.kernel_viz_func(df_train_ap, 'ap')"
   ]
  },
  {
   "cell_type": "code",
   "execution_count": 13,
   "metadata": {},
   "outputs": [
    {
     "name": "stderr",
     "output_type": "stream",
     "text": [
      "/opt/conda/lib/python3.7/site-packages/sklearn/metrics/classification.py:1439: UndefinedMetricWarning: F-score is ill-defined and being set to 0.0 due to no true samples.\n",
      "  'recall', 'true', average, warn_for)\n"
     ]
    },
    {
     "data": {
      "text/plain": [
       "{'accuracy': 0.3333333333333333,\n",
       " 'f1_score': 0.0,\n",
       " 'tn': 1,\n",
       " 'fp': 2,\n",
       " 'fn': 0,\n",
       " 'tp': 0}"
      ]
     },
     "execution_count": 13,
     "metadata": {},
     "output_type": "execute_result"
    }
   ],
   "source": [
    "clf = LinearSVC(max_iter = 10000)\n",
    "dic_scores,test_df = model.run_model(df_train_ap,df_test_ap, clf)\n",
    "dic_scores"
   ]
  },
  {
   "cell_type": "markdown",
   "metadata": {},
   "source": [
    "### APBPA^T"
   ]
  },
  {
   "cell_type": "code",
   "execution_count": 14,
   "metadata": {},
   "outputs": [
    {
     "name": "stdout",
     "output_type": "stream",
     "text": [
      "PCA Plot:\n"
     ]
    },
    {
     "data": {
      "image/png": "[encoded data removed]",
      "text/plain": [
       "<Figure size 432x288 with 1 Axes>"
      ]
     },
     "metadata": {},
     "output_type": "display_data"
    },
    {
     "name": "stdout",
     "output_type": "stream",
     "text": [
      "T-SNE Plot:\n"
     ]
    },
    {
     "data": {
      "image/png": "[encoded data removed]",
      "text/plain": [
       "<Figure size 432x288 with 1 Axes>"
      ]
     },
     "metadata": {},
     "output_type": "display_data"
    },
    {
     "name": "stdout",
     "output_type": "stream",
     "text": [
      "Both Plot:\n"
     ]
    },
    {
     "data": {
      "image/png": "[encoded data removed]",
      "text/plain": [
       "<Figure size 432x288 with 1 Axes>"
      ]
     },
     "metadata": {},
     "output_type": "display_data"
    }
   ],
   "source": [
    "train_kernel_apb  = model.apbpa_kernel(a_matrix,a_matrix,b_matrix,p_matrix)\n",
    "df_train_apb  = model.create_df(train_kernel_apb,benign_paths,app_list )\n",
    "\n",
    "test_kernel_apb =  model.apbpa_kernel(a_test_matrix,a_matrix,b_matrix, p_matrix)\n",
    "df_test_apb  = model.create_df(test_kernel_apb,test_benign_paths,app_list_test )\n",
    "\n",
    "model.kernel_viz_func(df_train_apb, 'abp')\n",
    "\n"
   ]
  },
  {
   "cell_type": "code",
   "execution_count": 15,
   "metadata": {},
   "outputs": [
    {
     "name": "stderr",
     "output_type": "stream",
     "text": [
      "/opt/conda/lib/python3.7/site-packages/sklearn/metrics/classification.py:1439: UndefinedMetricWarning: F-score is ill-defined and being set to 0.0 due to no true samples.\n",
      "  'recall', 'true', average, warn_for)\n"
     ]
    },
    {
     "data": {
      "text/plain": [
       "{'accuracy': 0.3333333333333333,\n",
       " 'f1_score': 0.0,\n",
       " 'tn': 1,\n",
       " 'fp': 2,\n",
       " 'fn': 0,\n",
       " 'tp': 0}"
      ]
     },
     "execution_count": 15,
     "metadata": {},
     "output_type": "execute_result"
    }
   ],
   "source": [
    "clf = LinearSVC(max_iter = 10000)\n",
    "dic_scores,test_df = model.run_model(df_train_apb,df_test_apb, clf)\n",
    "dic_scores"
   ]
  },
  {
   "cell_type": "markdown",
   "metadata": {},
   "source": [
    "## Multi-kernel"
   ]
  },
  {
   "cell_type": "code",
   "execution_count": 16,
   "metadata": {},
   "outputs": [],
   "source": [
    "train_kernel_list = [train_kernel_aa,train_kernel_ab\\\n",
    "                           ,train_kernel_ap,train_kernel_apb]\n",
    "test_kernel_list = [test_kernel_aa,test_kernel_ab\\\n",
    "                           ,test_kernel_ap,test_kernel_apb]"
   ]
  },
  {
   "cell_type": "code",
   "execution_count": 17,
   "metadata": {},
   "outputs": [],
   "source": [
    "model_align = Alignf(typ=\"convex\")\n",
    "labels = df_train_apb['type'].values\n",
    "\n",
    "df_train_multi, df_test_multi = multi_kernel.get_scores_multi(train_kernel_list,test_kernel_list, \\\n",
    "                             poly_kernel,model_align,labels, benign_paths\\\n",
    "                             ,app_list, app_list_test)"
   ]
  },
  {
   "cell_type": "code",
   "execution_count": 18,
   "metadata": {},
   "outputs": [
    {
     "name": "stderr",
     "output_type": "stream",
     "text": [
      "/opt/conda/lib/python3.7/site-packages/sklearn/metrics/classification.py:1439: UndefinedMetricWarning: F-score is ill-defined and being set to 0.0 due to no true samples.\n",
      "  'recall', 'true', average, warn_for)\n"
     ]
    },
    {
     "data": {
      "text/plain": [
       "{'accuracy': 0.3333333333333333,\n",
       " 'f1_score': 0.0,\n",
       " 'tn': 1,\n",
       " 'fp': 2,\n",
       " 'fn': 0,\n",
       " 'tp': 0}"
      ]
     },
     "execution_count": 18,
     "metadata": {},
     "output_type": "execute_result"
    }
   ],
   "source": [
    "clf = LinearSVC(max_iter = 10000)\n",
    "dic_scores,test_df = model.run_model(df_train_multi,df_test_multi, clf)\n",
    "dic_scores"
   ]
  }
 ],
 "metadata": {
  "kernelspec": {
   "display_name": "Python 3",
   "language": "python",
   "name": "python3"
  },
  "language_info": {
   "codemirror_mode": {
    "name": "ipython",
    "version": 3
   },
   "file_extension": ".py",
   "mimetype": "text/x-python",
   "name": "python",
   "nbconvert_exporter": "python",
   "pygments_lexer": "ipython3",
   "version": "3.7.3"
  }
 },
 "nbformat": 4,
 "nbformat_minor": 2
}
