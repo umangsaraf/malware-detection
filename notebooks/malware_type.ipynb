{
 "cells": [
  {
   "cell_type": "code",
   "execution_count": 13,
   "metadata": {},
   "outputs": [],
   "source": [
    "import numpy as np\n",
    "import pandas as pd\n",
    "from collections import defaultdict\n",
    "import matplotlib.pyplot as plt\n",
    "import seaborn as sns\n",
    "import scipy.sparse\n",
    "from itertools import islice\n",
    "import os\n",
    "from sklearn.svm import LinearSVC\n",
    "from sklearn.model_selection import train_test_split\n",
    "from sklearn.metrics import accuracy_score, recall_score, precision_score, f1_score, confusion_matrix"
   ]
  },
  {
   "cell_type": "code",
   "execution_count": 2,
   "metadata": {},
   "outputs": [],
   "source": [
    "a_matrix_train = scipy.sparse.load_npz('a_matrix_train.npz')\n",
    "a_matrix_test = scipy.sparse.load_npz('a_test_matrix.npz')"
   ]
  },
  {
   "cell_type": "code",
   "execution_count": 3,
   "metadata": {},
   "outputs": [],
   "source": [
    "aa_train = pd.read_csv(\"train_aa_kernel.csv\", header=0)\n",
    "aa_train = aa_train.set_index(aa_train['Unnamed: 0'].values).drop(['Unnamed: 0','predictions'], axis=1)\n",
    "aa_test = pd.read_csv(\"test_aa_kernel.csv\", header=0)\n",
    "aa_test = aa_test.set_index(aa_test['Unnamed: 0'].values).drop('Unnamed: 0', axis=1)"
   ]
  },
  {
   "cell_type": "code",
   "execution_count": 7,
   "metadata": {},
   "outputs": [],
   "source": [
    "def malware_app_paths():\n",
    "    type_of_malware = defaultdict(list)\n",
    "    malware_loc = []\n",
    "    dir_list = os.listdir(\"/datasets/dsc180a-wi20-public/Malware/amd_data_smali\")\n",
    "    for i in dir_list:\n",
    "        string = '/datasets/dsc180a-wi20-public/Malware/amd_data_smali/' + i\n",
    "        lis = os.listdir(string)\n",
    "        for variety in lis:\n",
    "            new_string = string + '/' + variety\n",
    "            app_list = os.listdir(new_string)\n",
    "            for app in app_list:\n",
    "                final_str = new_string + '/' + app\n",
    "                malware_loc.append(final_str)\n",
    "                type_of_malware[i].append(app)\n",
    "    return malware_loc, type_of_malware"
   ]
  },
  {
   "cell_type": "code",
   "execution_count": 8,
   "metadata": {},
   "outputs": [],
   "source": [
    "malware_path, type_of_malware = malware_app_paths()"
   ]
  },
  {
   "cell_type": "code",
   "execution_count": 27,
   "metadata": {},
   "outputs": [
    {
     "data": {
      "text/plain": [
       "FakeInst        428\n",
       "BankBot         133\n",
       "Youmi           118\n",
       "Lotoor           76\n",
       "RuMMS            65\n",
       "Minimob          42\n",
       "SimpleLocker     35\n",
       "Kyview           30\n",
       "GingerMaster     22\n",
       "DroidKungFu      18\n",
       "Koler            14\n",
       "Roop             10\n",
       "Andup            10\n",
       "Mtk              10\n",
       "Nandrobox         9\n",
       "Ksapp             8\n",
       "Boxer             6\n",
       "Stealer           5\n",
       "FakeDoc           5\n",
       "VikingHorde       4\n",
       "Gorpo             4\n",
       "Vidro             3\n",
       "Fjcon             3\n",
       "SmsZombie         3\n",
       "Obad              3\n",
       "Vmvol             3\n",
       "Steek             2\n",
       "FakeAngry         2\n",
       "Kemoge            1\n",
       "MobileTX          1\n",
       "SpyBubble         1\n",
       "FakeAV            1\n",
       "Name: type_of_malware, dtype: int64"
      ]
     },
     "execution_count": 27,
     "metadata": {},
     "output_type": "execute_result"
    }
   ],
   "source": [
    "list_app = aa_train[aa_train['type'] == 0]['app_name']\n",
    "type_dic = {}\n",
    "for app in list_app:\n",
    "    for i in type_of_malware.keys():\n",
    "        if app in type_of_malware[i]:\n",
    "            type_dic[app] = i\n",
    "    \n",
    "aa_train['type_of_malware'] = aa_train['app_name'].apply(lambda x: type_dic[x] if x in type_dic.keys() else None)\n",
    "aa_train['type_of_malware'].value_counts()"
   ]
  },
  {
   "cell_type": "code",
   "execution_count": 11,
   "metadata": {},
   "outputs": [
    {
     "data": {
      "text/plain": [
       "FakeInst        78\n",
       "BankBot         23\n",
       "RuMMS           16\n",
       "Lotoor          15\n",
       "Youmi           11\n",
       "GingerMaster     9\n",
       "DroidKungFu      8\n",
       "Kyview           6\n",
       "Mtk              5\n",
       "Nandrobox        4\n",
       "Roop             4\n",
       "SimpleLocker     4\n",
       "Andup            2\n",
       "Koler            2\n",
       "Stealer          2\n",
       "Ksapp            2\n",
       "Gorpo            2\n",
       "Boxer            1\n",
       "Vidro            1\n",
       "SpyBubble        1\n",
       "VikingHorde      1\n",
       "Minimob          1\n",
       "Name: type_of_malware, dtype: int64"
      ]
     },
     "execution_count": 11,
     "metadata": {},
     "output_type": "execute_result"
    }
   ],
   "source": [
    "list_app = aa_test[aa_test['type'] == 0]['app_name']\n",
    "type_dic = {}\n",
    "for app in list_app:\n",
    "    for i in type_of_malware.keys():\n",
    "        if app in type_of_malware[i]:\n",
    "            type_dic[app] = i\n",
    "    \n",
    "aa_test['type_of_malware'] = aa_test['app_name'].apply(lambda x: type_dic[x] if x in type_dic.keys() else None)\n",
    "aa_test['type_of_malware'].value_counts()"
   ]
  },
  {
   "cell_type": "code",
   "execution_count": 12,
   "metadata": {},
   "outputs": [],
   "source": [
    "kernel = aa_train.drop(['app_name','type', 'type_of_malware'], axis=1).values\n",
    "y = aa_train['type'].values"
   ]
  },
  {
   "cell_type": "code",
   "execution_count": 14,
   "metadata": {},
   "outputs": [],
   "source": [
    "def get_results(dic, y_true, y_pred):\n",
    "    dic['accuracy'] = accuracy_score(y_true, y_pred)\n",
    "    dic['precision'] = precision_score(y_true, y_pred)\n",
    "    dic['recall'] = recall_score(y_true, y_pred)\n",
    "    dic['f1'] = f1_score(y_true, y_pred)\n",
    "    tn, fp, fn, tp = confusion_matrix(y_true, y_pred).ravel()\n",
    "    dic['tp'] = float(tp)\n",
    "    dic['fp'] = float(fp)\n",
    "    dic['fn'] = float(fn)\n",
    "    dic['tn'] = float(tn)\n",
    "    return dic"
   ]
  },
  {
   "cell_type": "code",
   "execution_count": 15,
   "metadata": {},
   "outputs": [],
   "source": [
    "dic = {\n",
    "        \"accuracy\": 0.0,\n",
    "        \"precision\": 0.0,\n",
    "        \"recall\": 0.0,\n",
    "        \"f1\": 0.0,\n",
    "        \"tp\": 0.0,\n",
    "        \"fp\": 0.0,\n",
    "        \"fn\": 0.0,\n",
    "        \"tn\": 0.0\n",
    "}"
   ]
  },
  {
   "cell_type": "code",
   "execution_count": 16,
   "metadata": {},
   "outputs": [
    {
     "name": "stderr",
     "output_type": "stream",
     "text": [
      "/opt/conda/lib/python3.7/site-packages/sklearn/svm/base.py:929: ConvergenceWarning: Liblinear failed to converge, increase the number of iterations.\n",
      "  \"the number of iterations.\", ConvergenceWarning)\n"
     ]
    },
    {
     "data": {
      "text/plain": [
       "LinearSVC(C=1.0, class_weight=None, dual=True, fit_intercept=True,\n",
       "          intercept_scaling=1, loss='squared_hinge', max_iter=10000,\n",
       "          multi_class='ovr', penalty='l2', random_state=0, tol=1e-05,\n",
       "          verbose=0)"
      ]
     },
     "execution_count": 16,
     "metadata": {},
     "output_type": "execute_result"
    }
   ],
   "source": [
    "clf = LinearSVC(random_state=0, max_iter=10000, tol=1e-5)\n",
    "clf.fit(kernel, y)"
   ]
  },
  {
   "cell_type": "code",
   "execution_count": 18,
   "metadata": {},
   "outputs": [
    {
     "data": {
      "text/plain": [
       "{'accuracy': 0.9540229885057471,\n",
       " 'precision': 0.9652777777777778,\n",
       " 'recall': 0.9266666666666666,\n",
       " 'f1': 0.9455782312925171,\n",
       " 'tp': 139.0,\n",
       " 'fp': 5.0,\n",
       " 'fn': 11.0,\n",
       " 'tn': 193.0}"
      ]
     },
     "execution_count": 18,
     "metadata": {},
     "output_type": "execute_result"
    }
   ],
   "source": [
    "get_results(dic, aa_test['type'].values, clf.predict(aa_test.drop(['app_name','type', 'type_of_malware'], axis=1).values))"
   ]
  },
  {
   "cell_type": "code",
   "execution_count": 22,
   "metadata": {},
   "outputs": [],
   "source": [
    "predict_y = clf.predict(aa_test.drop(['app_name','type', 'type_of_malware'], axis=1).values)\n",
    "test_y = aa_test['type'].values\n",
    "tp_index = []\n",
    "for i in range(len(predict_y)):\n",
    "    if predict_y[i] != test_y[i] and predict_y[i] == 1:\n",
    "        tp_index.append(str(i))"
   ]
  },
  {
   "cell_type": "code",
   "execution_count": 23,
   "metadata": {},
   "outputs": [
    {
     "data": {
      "text/plain": [
       "['172', '232', '274', '288', '322']"
      ]
     },
     "execution_count": 23,
     "metadata": {},
     "output_type": "execute_result"
    }
   ],
   "source": [
    "tp_index"
   ]
  },
  {
   "cell_type": "code",
   "execution_count": 25,
   "metadata": {},
   "outputs": [
    {
     "data": {
      "text/html": [
       "<div>\n",
       "<style scoped>\n",
       "    .dataframe tbody tr th:only-of-type {\n",
       "        vertical-align: middle;\n",
       "    }\n",
       "\n",
       "    .dataframe tbody tr th {\n",
       "        vertical-align: top;\n",
       "    }\n",
       "\n",
       "    .dataframe thead th {\n",
       "        text-align: right;\n",
       "    }\n",
       "</style>\n",
       "<table border=\"1\" class=\"dataframe\">\n",
       "  <thead>\n",
       "    <tr style=\"text-align: right;\">\n",
       "      <th></th>\n",
       "      <th>0</th>\n",
       "      <th>1</th>\n",
       "      <th>2</th>\n",
       "      <th>3</th>\n",
       "      <th>4</th>\n",
       "      <th>5</th>\n",
       "      <th>6</th>\n",
       "      <th>7</th>\n",
       "      <th>8</th>\n",
       "      <th>9</th>\n",
       "      <th>...</th>\n",
       "      <th>2172</th>\n",
       "      <th>2173</th>\n",
       "      <th>2174</th>\n",
       "      <th>2175</th>\n",
       "      <th>2176</th>\n",
       "      <th>2177</th>\n",
       "      <th>2178</th>\n",
       "      <th>app_name</th>\n",
       "      <th>type</th>\n",
       "      <th>type_of_malware</th>\n",
       "    </tr>\n",
       "  </thead>\n",
       "  <tbody>\n",
       "    <tr>\n",
       "      <th>172</th>\n",
       "      <td>365.0</td>\n",
       "      <td>4614.0</td>\n",
       "      <td>724.0</td>\n",
       "      <td>4179.0</td>\n",
       "      <td>84.0</td>\n",
       "      <td>3543.0</td>\n",
       "      <td>2093.0</td>\n",
       "      <td>1418.0</td>\n",
       "      <td>437.0</td>\n",
       "      <td>4155.0</td>\n",
       "      <td>...</td>\n",
       "      <td>76.0</td>\n",
       "      <td>155.0</td>\n",
       "      <td>47.0</td>\n",
       "      <td>42.0</td>\n",
       "      <td>50.0</td>\n",
       "      <td>50.0</td>\n",
       "      <td>756.0</td>\n",
       "      <td>790b65d3fba5e125068602f48f5791b3</td>\n",
       "      <td>0</td>\n",
       "      <td>Koler</td>\n",
       "    </tr>\n",
       "    <tr>\n",
       "      <th>232</th>\n",
       "      <td>568.0</td>\n",
       "      <td>497.0</td>\n",
       "      <td>806.0</td>\n",
       "      <td>789.0</td>\n",
       "      <td>179.0</td>\n",
       "      <td>593.0</td>\n",
       "      <td>880.0</td>\n",
       "      <td>258.0</td>\n",
       "      <td>649.0</td>\n",
       "      <td>1231.0</td>\n",
       "      <td>...</td>\n",
       "      <td>117.0</td>\n",
       "      <td>235.0</td>\n",
       "      <td>88.0</td>\n",
       "      <td>57.0</td>\n",
       "      <td>70.0</td>\n",
       "      <td>70.0</td>\n",
       "      <td>347.0</td>\n",
       "      <td>c2d2657b66305c8c2a11f09c8fc8d933</td>\n",
       "      <td>0</td>\n",
       "      <td>Nandrobox</td>\n",
       "    </tr>\n",
       "    <tr>\n",
       "      <th>274</th>\n",
       "      <td>590.0</td>\n",
       "      <td>436.0</td>\n",
       "      <td>743.0</td>\n",
       "      <td>723.0</td>\n",
       "      <td>165.0</td>\n",
       "      <td>495.0</td>\n",
       "      <td>696.0</td>\n",
       "      <td>232.0</td>\n",
       "      <td>643.0</td>\n",
       "      <td>1709.0</td>\n",
       "      <td>...</td>\n",
       "      <td>117.0</td>\n",
       "      <td>232.0</td>\n",
       "      <td>89.0</td>\n",
       "      <td>59.0</td>\n",
       "      <td>67.0</td>\n",
       "      <td>67.0</td>\n",
       "      <td>316.0</td>\n",
       "      <td>5d1f6c7007301a54e382991732feffdb</td>\n",
       "      <td>0</td>\n",
       "      <td>Kyview</td>\n",
       "    </tr>\n",
       "    <tr>\n",
       "      <th>288</th>\n",
       "      <td>591.0</td>\n",
       "      <td>439.0</td>\n",
       "      <td>748.0</td>\n",
       "      <td>727.0</td>\n",
       "      <td>165.0</td>\n",
       "      <td>498.0</td>\n",
       "      <td>699.0</td>\n",
       "      <td>232.0</td>\n",
       "      <td>645.0</td>\n",
       "      <td>1713.0</td>\n",
       "      <td>...</td>\n",
       "      <td>116.0</td>\n",
       "      <td>232.0</td>\n",
       "      <td>89.0</td>\n",
       "      <td>58.0</td>\n",
       "      <td>66.0</td>\n",
       "      <td>66.0</td>\n",
       "      <td>318.0</td>\n",
       "      <td>227116ba8b0a5ec0692c5fe403a99e91</td>\n",
       "      <td>0</td>\n",
       "      <td>Kyview</td>\n",
       "    </tr>\n",
       "    <tr>\n",
       "      <th>322</th>\n",
       "      <td>2911.0</td>\n",
       "      <td>1601.0</td>\n",
       "      <td>3060.0</td>\n",
       "      <td>2140.0</td>\n",
       "      <td>179.0</td>\n",
       "      <td>2096.0</td>\n",
       "      <td>1927.0</td>\n",
       "      <td>959.0</td>\n",
       "      <td>2265.0</td>\n",
       "      <td>2812.0</td>\n",
       "      <td>...</td>\n",
       "      <td>129.0</td>\n",
       "      <td>290.0</td>\n",
       "      <td>97.0</td>\n",
       "      <td>66.0</td>\n",
       "      <td>71.0</td>\n",
       "      <td>71.0</td>\n",
       "      <td>650.0</td>\n",
       "      <td>327f6a001c81e04c1786b222a38cd19f</td>\n",
       "      <td>0</td>\n",
       "      <td>Kyview</td>\n",
       "    </tr>\n",
       "  </tbody>\n",
       "</table>\n",
       "<p>5 rows × 2182 columns</p>\n",
       "</div>"
      ],
      "text/plain": [
       "          0       1       2       3      4       5       6       7       8  \\\n",
       "172   365.0  4614.0   724.0  4179.0   84.0  3543.0  2093.0  1418.0   437.0   \n",
       "232   568.0   497.0   806.0   789.0  179.0   593.0   880.0   258.0   649.0   \n",
       "274   590.0   436.0   743.0   723.0  165.0   495.0   696.0   232.0   643.0   \n",
       "288   591.0   439.0   748.0   727.0  165.0   498.0   699.0   232.0   645.0   \n",
       "322  2911.0  1601.0  3060.0  2140.0  179.0  2096.0  1927.0   959.0  2265.0   \n",
       "\n",
       "          9  ...   2172   2173  2174  2175  2176  2177   2178  \\\n",
       "172  4155.0  ...   76.0  155.0  47.0  42.0  50.0  50.0  756.0   \n",
       "232  1231.0  ...  117.0  235.0  88.0  57.0  70.0  70.0  347.0   \n",
       "274  1709.0  ...  117.0  232.0  89.0  59.0  67.0  67.0  316.0   \n",
       "288  1713.0  ...  116.0  232.0  89.0  58.0  66.0  66.0  318.0   \n",
       "322  2812.0  ...  129.0  290.0  97.0  66.0  71.0  71.0  650.0   \n",
       "\n",
       "                             app_name  type  type_of_malware  \n",
       "172  790b65d3fba5e125068602f48f5791b3     0            Koler  \n",
       "232  c2d2657b66305c8c2a11f09c8fc8d933     0        Nandrobox  \n",
       "274  5d1f6c7007301a54e382991732feffdb     0           Kyview  \n",
       "288  227116ba8b0a5ec0692c5fe403a99e91     0           Kyview  \n",
       "322  327f6a001c81e04c1786b222a38cd19f     0           Kyview  \n",
       "\n",
       "[5 rows x 2182 columns]"
      ]
     },
     "execution_count": 25,
     "metadata": {},
     "output_type": "execute_result"
    }
   ],
   "source": [
    "aa_test.iloc[tp_index]"
   ]
  },
  {
   "cell_type": "code",
   "execution_count": null,
   "metadata": {},
   "outputs": [],
   "source": []
  }
 ],
 "metadata": {
  "kernelspec": {
   "display_name": "Python 3",
   "language": "python",
   "name": "python3"
  },
  "language_info": {
   "codemirror_mode": {
    "name": "ipython",
    "version": 3
   },
   "file_extension": ".py",
   "mimetype": "text/x-python",
   "name": "python",
   "nbconvert_exporter": "python",
   "pygments_lexer": "ipython3",
   "version": "3.7.3"
  }
 },
 "nbformat": 4,
 "nbformat_minor": 2
}
