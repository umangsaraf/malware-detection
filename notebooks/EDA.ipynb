{
 "cells": [
  {
   "cell_type": "code",
   "execution_count": 5,
   "metadata": {},
   "outputs": [],
   "source": [
    "import regex as re\n",
    "from collections import defaultdict\n",
    "import time\n",
    "from scipy.sparse import *\n",
    "\n",
    "import numpy as np\n",
    "from sklearn.svm import SVC\n",
    "from tqdm import tqdm\n",
    "import os \n",
    "import glob\n",
    "from pathlib import Path\n",
    "\n",
    "import pandas as pd\n",
    "from sklearn.model_selection import train_test_split\n",
    "from sklearn.svm import LinearSVC\n",
    "from sklearn.metrics import *\n",
    "import json\n",
    "import matplotlib.pyplot as plt\n",
    "import pickle\n",
    "%matplotlib inline\n",
    "\n",
    "\n",
    "\n",
    "import sys\n",
    "sys.path.insert(1, '../src')\n",
    "import make_dataset\n",
    "import model \n",
    "import build_features\n",
    "import multi_kernel\n",
    "\n",
    "\n",
    "\n",
    "\n",
    "plt.style.use('seaborn-whitegrid')"
   ]
  },
  {
   "cell_type": "code",
   "execution_count": 6,
   "metadata": {},
   "outputs": [
    {
     "data": {
      "text/plain": [
       "<module 'model' from '../src/model.py'>"
      ]
     },
     "execution_count": 6,
     "metadata": {},
     "output_type": "execute_result"
    }
   ],
   "source": [
    "import importlib\n",
    "importlib.reload(make_dataset)\n",
    "importlib.reload(build_features)\n",
    "importlib.reload(model)"
   ]
  },
  {
   "cell_type": "code",
   "execution_count": 7,
   "metadata": {},
   "outputs": [
    {
     "name": "stdout",
     "output_type": "stream",
     "text": [
      "apps_dic Loaded\n",
      "code_block_dic Loaded\n",
      "package_dic Loaded\n"
     ]
    }
   ],
   "source": [
    "train_created = True\n",
    "\n",
    "dir_list = '../test-data'\n",
    "benign_paths = make_dataset.benign_app_paths_test(dir_list)[:2]\n",
    "\n",
    "with open('../test-data/processed/app_to_api.json') as f:\n",
    "    apps_dic = json.loads(f.read())\n",
    "    f.close()\n",
    "print('apps_dic Loaded')\n",
    "with open('../test-data/processed/code_block.json') as f:\n",
    "    code_block_dic = json.loads(f.read())\n",
    "    f.close()\n",
    "print('code_block_dic Loaded')\n",
    "with open('../test-data/processed/library_dic.json') as f:\n",
    "    package_dic = json.loads(f.read())\n",
    "    f.close()\n",
    "print('package_dic Loaded')\n",
    "\n",
    "api_path = '../test-data/processed/unique_api.text'\n",
    "with open(api_path, \"rb\") as fp: \n",
    "    api_list = pickle.load(fp)\n",
    "\n",
    "app_list = list(apps_dic.keys())"
   ]
  },
  {
   "cell_type": "markdown",
   "metadata": {},
   "source": [
    "## EDA"
   ]
  },
  {
   "cell_type": "code",
   "execution_count": 8,
   "metadata": {},
   "outputs": [
    {
     "data": {
      "text/plain": [
       "4156.2"
      ]
     },
     "execution_count": 8,
     "metadata": {},
     "output_type": "execute_result"
    }
   ],
   "source": [
    "## Mean API's in all apps\n",
    "average_apps = [len(set(apps_dic[key])) for key in apps_dic.keys()]\n",
    "np.mean(average_apps)"
   ]
  },
  {
   "cell_type": "code",
   "execution_count": 9,
   "metadata": {},
   "outputs": [
    {
     "name": "stdout",
     "output_type": "stream",
     "text": [
      "4156.2 mean number of APIs for Benign apps\n"
     ]
    }
   ],
   "source": [
    "mean_benign = np.mean(average_apps[:1104])\n",
    "print(str(mean_benign)+' mean number of APIs for Benign apps')\n"
   ]
  },
  {
   "cell_type": "code",
   "execution_count": 10,
   "metadata": {},
   "outputs": [
    {
     "name": "stdout",
     "output_type": "stream",
     "text": [
      "nan mean number of APIs for Malware apps\n"
     ]
    },
    {
     "name": "stderr",
     "output_type": "stream",
     "text": [
      "/opt/conda/lib/python3.7/site-packages/numpy/core/fromnumeric.py:3118: RuntimeWarning: Mean of empty slice.\n",
      "  out=out, **kwargs)\n",
      "/opt/conda/lib/python3.7/site-packages/numpy/core/_methods.py:85: RuntimeWarning: invalid value encountered in double_scalars\n",
      "  ret = ret.dtype.type(ret / rcount)\n"
     ]
    }
   ],
   "source": [
    "mean_malware = np.mean(average_apps[1104:])\n",
    "print(str(mean_malware)+' mean number of APIs for Malware apps')"
   ]
  },
  {
   "cell_type": "code",
   "execution_count": 11,
   "metadata": {},
   "outputs": [],
   "source": [
    "## Most common API's in Benign apps with counts "
   ]
  },
  {
   "cell_type": "code",
   "execution_count": 12,
   "metadata": {},
   "outputs": [
    {
     "name": "stdout",
     "output_type": "stream",
     "text": [
      "Ljava/io/OutputStream;->close() 1\n",
      "Ljava/io/InputStream;-><init>() 1\n",
      "Ljava/io/IOException;-><init>() 1\n",
      "Ljava/io/OutputStream;->write() 1\n",
      "Ljava/lang/StringBuilder;->append() 1\n",
      "\n"
     ]
    }
   ],
   "source": [
    "benign_api_count = defaultdict(int)\n",
    "benign_api = set()\n",
    "benign_apps  = [i.split('/')[-1] for i in  benign_paths]\n",
    "for key in apps_dic:\n",
    "    if key in benign_apps:\n",
    "        for api in apps_dic[key]:\n",
    "            benign_api_count[api] += 1\n",
    "            benign_api.add(api)\n",
    "top_10_benign_api = sorted(benign_api_count, key=lambda k: (benign_api_count[k]), reverse=True)[:8]\n",
    "\n",
    "[print(i, benign_api_count[i]) for i in top_10_benign_api]\n",
    "print('')  "
   ]
  },
  {
   "cell_type": "code",
   "execution_count": 14,
   "metadata": {},
   "outputs": [
    {
     "name": "stdout",
     "output_type": "stream",
     "text": [
      "Landroid/support/v4/app/BackStackRecord;->mNumOp:() 3\n",
      "Landroid/media/session/PlaybackState;->getState() 3\n",
      "Landroid/view/ViewPropertyAnimator;->translationXBy() 3\n",
      "Landroid/support/v4/widget/NestedScrollView;->isOffScreen() 3\n",
      "Ljava/io/BufferedReader;->ready() 3\n",
      "Landroid/support/v4/widget/DrawerLayout;->mScrimColor:() 3\n",
      "Landroid/support/v4/util/LongSparseArray;->mGarbage:() 3\n",
      "Landroid/view/accessibility/AccessibilityNodeInfo;->isEnabled() 3\n",
      "\n"
     ]
    }
   ],
   "source": [
    "## Most common API's in malware with counts\n",
    "malware_api_count = defaultdict(int)\n",
    "malware_api = set()\n",
    "benign_apps  = [i.split('/')[-1] for i in  benign_paths]\n",
    "for key in apps_dic:\n",
    "    if key not in benign_apps:\n",
    "        for api in apps_dic[key]:\n",
    "            malware_api_count[api] += 1\n",
    "            malware_api.add(api)\n",
    "top_10_malware_api = sorted(malware_api_count, key=lambda k: (malware_api_count[k]), reverse=True)[:8]\n",
    "\n",
    "[print(i, malware_api_count[i]) for i in top_10_malware_api]\n",
    "print('')  "
   ]
  },
  {
   "cell_type": "code",
   "execution_count": 16,
   "metadata": {},
   "outputs": [
    {
     "ename": "KeyError",
     "evalue": "'Ljava/lang/StringBuilder;->append()'",
     "output_type": "error",
     "traceback": [
      "\u001b[0;31m---------------------------------------------------------------------------\u001b[0m",
      "\u001b[0;31mKeyError\u001b[0m                                  Traceback (most recent call last)",
      "\u001b[0;32m<ipython-input-16-f61176e63f2e>\u001b[0m in \u001b[0;36m<module>\u001b[0;34m\u001b[0m\n\u001b[1;32m      5\u001b[0m \u001b[0mcommon_keys\u001b[0m \u001b[0;34m=\u001b[0m \u001b[0mbenign_api\u001b[0m\u001b[0;34m.\u001b[0m\u001b[0mdifference\u001b[0m\u001b[0;34m(\u001b[0m\u001b[0munique_benign_api\u001b[0m\u001b[0;34m)\u001b[0m\u001b[0;34m\u001b[0m\u001b[0;34m\u001b[0m\u001b[0m\n\u001b[1;32m      6\u001b[0m \u001b[0;32mfor\u001b[0m \u001b[0mkey\u001b[0m \u001b[0;32min\u001b[0m \u001b[0mcommon_keys\u001b[0m\u001b[0;34m:\u001b[0m\u001b[0;34m\u001b[0m\u001b[0;34m\u001b[0m\u001b[0m\n\u001b[0;32m----> 7\u001b[0;31m     \u001b[0;32mdel\u001b[0m \u001b[0mbenign_api_count\u001b[0m\u001b[0;34m[\u001b[0m\u001b[0mkey\u001b[0m\u001b[0;34m]\u001b[0m\u001b[0;34m\u001b[0m\u001b[0;34m\u001b[0m\u001b[0m\n\u001b[0m\u001b[1;32m      8\u001b[0m \u001b[0mtop_10_benign_api_unique\u001b[0m \u001b[0;34m=\u001b[0m \u001b[0msorted\u001b[0m\u001b[0;34m(\u001b[0m\u001b[0mbenign_api_count\u001b[0m\u001b[0;34m,\u001b[0m \u001b[0mkey\u001b[0m\u001b[0;34m=\u001b[0m\u001b[0;32mlambda\u001b[0m \u001b[0mk\u001b[0m\u001b[0;34m:\u001b[0m \u001b[0;34m(\u001b[0m\u001b[0mbenign_api_count\u001b[0m\u001b[0;34m[\u001b[0m\u001b[0mk\u001b[0m\u001b[0;34m]\u001b[0m\u001b[0;34m)\u001b[0m\u001b[0;34m,\u001b[0m \u001b[0mreverse\u001b[0m\u001b[0;34m=\u001b[0m\u001b[0;32mTrue\u001b[0m\u001b[0;34m)\u001b[0m\u001b[0;34m[\u001b[0m\u001b[0;34m:\u001b[0m\u001b[0;36m8\u001b[0m\u001b[0;34m]\u001b[0m\u001b[0;34m\u001b[0m\u001b[0;34m\u001b[0m\u001b[0m\n\u001b[1;32m      9\u001b[0m \u001b[0;34m\u001b[0m\u001b[0m\n",
      "\u001b[0;31mKeyError\u001b[0m: 'Ljava/lang/StringBuilder;->append()'"
     ]
    }
   ],
   "source": [
    "## Most common API's in Benign that are not seen in malware \n",
    "\n",
    "unique_benign_api = benign_api.difference(malware_api)\n",
    "\n",
    "common_keys = benign_api.difference(unique_benign_api)\n",
    "for key in common_keys:\n",
    "    del benign_api_count[key]\n",
    "top_10_benign_api_unique = sorted(benign_api_count, key=lambda k: (benign_api_count[k]), reverse=True)[:8]\n",
    "\n",
    "[print(i, benign_api_count[i]) for i in top_10_benign_api_unique]\n",
    "print('')  "
   ]
  },
  {
   "cell_type": "code",
   "execution_count": 17,
   "metadata": {},
   "outputs": [
    {
     "name": "stdout",
     "output_type": "stream",
     "text": [
      "Landroid/support/v4/app/BackStackRecord;->mNumOp:() 3\n",
      "Landroid/media/session/PlaybackState;->getState() 3\n",
      "Landroid/view/ViewPropertyAnimator;->translationXBy() 3\n",
      "Landroid/support/v4/widget/NestedScrollView;->isOffScreen() 3\n",
      "Ljava/io/BufferedReader;->ready() 3\n",
      "Landroid/support/v4/widget/DrawerLayout;->mScrimColor:() 3\n",
      "Landroid/support/v4/util/LongSparseArray;->mGarbage:() 3\n",
      "Landroid/view/accessibility/AccessibilityNodeInfo;->isEnabled() 3\n",
      "\n"
     ]
    }
   ],
   "source": [
    "## Most common API's in Malware that are not seen in Benign  \n",
    "unique_malware_api = malware_api.difference(benign_api)\n",
    "\n",
    "common_keys_malware = malware_api.difference(unique_malware_api)\n",
    "for key in common_keys_malware:\n",
    "    del malware_api_count[key]\n",
    "top_10_malware_api_unique = sorted(malware_api_count, key=lambda k: (malware_api_count[k]), reverse=True)[:8]\n",
    "\n",
    "[print(i, malware_api_count[i]) for i in top_10_malware_api_unique]\n",
    "print('')  "
   ]
  },
  {
   "cell_type": "code",
   "execution_count": 18,
   "metadata": {},
   "outputs": [
    {
     "name": "stderr",
     "output_type": "stream",
     "text": [
      "/opt/conda/lib/python3.7/site-packages/ipykernel_launcher.py:1: MatplotlibDeprecationWarning: \n",
      "The 'normed' kwarg was deprecated in Matplotlib 2.1 and will be removed in 3.1. Use 'density' instead.\n",
      "  \"\"\"Entry point for launching an IPython kernel.\n"
     ]
    },
    {
     "data": {
      "image/png": "[encoded data removed]",
      "text/plain": [
       "<Figure size 432x288 with 1 Axes>"
      ]
     },
     "metadata": {},
     "output_type": "display_data"
    }
   ],
   "source": [
    "plt.hist(average_apps, normed=True, bins=30)\n",
    "plt.ylabel('Probability');\n",
    "plt.title('Distrubtions of APIs in apps')\n",
    "plt.savefig('app_ap')"
   ]
  },
  {
   "cell_type": "code",
   "execution_count": 19,
   "metadata": {},
   "outputs": [
    {
     "name": "stdout",
     "output_type": "stream",
     "text": [
      "Landroid/view/View - 177\n",
      "Landroid/support/v4/app/Fragment - 140\n",
      "Landroid/support/v4/view/ViewPager - 135\n",
      "Landroid/view/accessibility/AccessibilityNodeInfo - 97\n",
      "Landroid/support/v4/app/FragmentManagerImpl - 91\n",
      "Landroid/support/v4/widget/NestedScrollView - 88\n",
      "Landroid/support/v4/widget/DrawerLayout - 83\n",
      "Landroid/support/v4/widget/SwipeRefreshLayout - 72\n",
      "\n"
     ]
    }
   ],
   "source": [
    "## Top 10 Most common Libraries\n",
    "list_lib_10 = sorted(package_dic, key=lambda k: len(package_dic[k]), reverse=True)[:8]\n",
    "[print(i, \"-\",len(package_dic[i])) for i in list_lib_10]\n",
    "print('')\n",
    "\n"
   ]
  },
  {
   "cell_type": "code",
   "execution_count": 20,
   "metadata": {},
   "outputs": [
    {
     "name": "stderr",
     "output_type": "stream",
     "text": [
      "/opt/conda/lib/python3.7/site-packages/ipykernel_launcher.py:2: MatplotlibDeprecationWarning: \n",
      "The 'normed' kwarg was deprecated in Matplotlib 2.1 and will be removed in 3.1. Use 'density' instead.\n",
      "  \n"
     ]
    },
    {
     "data": {
      "image/png": "[encoded data removed]",
      "text/plain": [
       "<Figure size 432x288 with 1 Axes>"
      ]
     },
     "metadata": {},
     "output_type": "display_data"
    }
   ],
   "source": [
    "lib_count = [len(set(package_dic[key])) for key in package_dic.keys()]\n",
    "plt.hist(lib_count, normed=True, bins=30)\n",
    "plt.ylabel('Probability');\n",
    "plt.title('Number of APIs for each library')\n",
    "plt.savefig('lib_plot')"
   ]
  },
  {
   "cell_type": "code",
   "execution_count": 21,
   "metadata": {},
   "outputs": [
    {
     "name": "stdout",
     "output_type": "stream",
     "text": [
      "Ljava/lang/StringBuilder;->toString() - 1007\n",
      "Ljava/lang/StringBuilder;-><init>() - 817\n",
      "Ljava/util/ArrayList;-><init>() - 591\n",
      "Ljava/lang/StringBuilder;->append() - 589\n",
      "Ljava/lang/IllegalStateException;-><init>() - 516\n",
      "Ljava/util/ArrayList;->size() - 452\n",
      "Lcom/google/android/gms/common/internal/safeparcel/zzb;->zza() - 413\n",
      "Ljava/lang/Object;-><init>() - 395\n",
      "Ljava/util/Iterator;->next() - 394\n",
      "Landroid/util/Log;->e() - 343\n",
      " \n"
     ]
    }
   ],
   "source": [
    "## Top 10 highest occuring API's in codeblocks\n",
    "\n",
    "code_block_10 = sorted(code_block_dic, key=lambda k: len(code_block_dic[k]), reverse=True)[:10]\n",
    "\n",
    "[print(i, '-', len(code_block_dic[i])) for i in code_block_10]\n",
    "print(' ')"
   ]
  },
  {
   "cell_type": "code",
   "execution_count": 22,
   "metadata": {},
   "outputs": [
    {
     "name": "stderr",
     "output_type": "stream",
     "text": [
      "/opt/conda/lib/python3.7/site-packages/ipykernel_launcher.py:2: MatplotlibDeprecationWarning: \n",
      "The 'normed' kwarg was deprecated in Matplotlib 2.1 and will be removed in 3.1. Use 'density' instead.\n",
      "  \n"
     ]
    },
    {
     "data": {
      "text/plain": [
       "Text(0.5, 1.0, 'Number of APIs for each code block')"
      ]
     },
     "execution_count": 22,
     "metadata": {},
     "output_type": "execute_result"
    },
    {
     "data": {
      "image/png": "[encoded data removed]",
      "text/plain": [
       "<Figure size 432x288 with 1 Axes>"
      ]
     },
     "metadata": {},
     "output_type": "display_data"
    }
   ],
   "source": [
    "block_count = [len(code_block_dic[key]) for key in code_block_dic.keys()]\n",
    "plt.hist(block_count, normed=True, bins=30)\n",
    "plt.ylabel('Probability');\n",
    "plt.title('Number of APIs for each code block')"
   ]
  },
  {
   "cell_type": "code",
   "execution_count": null,
   "metadata": {},
   "outputs": [],
   "source": []
  }
 ],
 "metadata": {
  "kernelspec": {
   "display_name": "Python 3",
   "language": "python",
   "name": "python3"
  },
  "language_info": {
   "codemirror_mode": {
    "name": "ipython",
    "version": 3
   },
   "file_extension": ".py",
   "mimetype": "text/x-python",
   "name": "python",
   "nbconvert_exporter": "python",
   "pygments_lexer": "ipython3",
   "version": "3.7.3"
  }
 },
 "nbformat": 4,
 "nbformat_minor": 2
}
